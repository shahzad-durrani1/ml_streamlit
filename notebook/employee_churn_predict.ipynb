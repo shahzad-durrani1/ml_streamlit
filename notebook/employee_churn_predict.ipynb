{
 "cells": [
  {
   "cell_type": "code",
   "execution_count": 2,
   "metadata": {},
   "outputs": [
    {
     "data": {
      "text/plain": [
       "['../model/employee_feature_dict.pkl']"
      ]
     },
     "execution_count": 2,
     "metadata": {},
     "output_type": "execute_result"
    }
   ],
   "source": [
    "import pandas as pd\n",
    "import dill\n",
    "from sklearn.model_selection import train_test_split\n",
    "from sklearn.ensemble import RandomForestClassifier\n",
    "from sklearn.pipeline import Pipeline\n",
    "from sklearn.preprocessing import OneHotEncoder, StandardScaler\n",
    "from sklearn.compose import ColumnTransformer\n",
    "from sklearn.impute import SimpleImputer\n",
    "from joblib import dump\n",
    "\n",
    "# Load the dataset\n",
    "file_path = '../data/Employee.csv'\n",
    "df = pd.read_csv(file_path)\n",
    "\n",
    "# Define feature columns and target\n",
    "categorical_features = ['Education', 'City', 'Gender', 'EverBenched', 'PaymentTier']\n",
    "numerical_features = ['JoiningYear', 'Age', 'ExperienceInCurrentDomain']\n",
    "target = 'LeaveOrNot'\n",
    "\n",
    "# Splitting features and target\n",
    "X = df[categorical_features + numerical_features]\n",
    "y = df[target]\n",
    "\n",
    "# Splitting the dataset into training and testing sets\n",
    "X_train, X_test, y_train, y_test = train_test_split(X, y, test_size=0.2, random_state=42)\n",
    "\n",
    "# Preprocessing for numerical and categorical features\n",
    "numerical_transformer = Pipeline(steps=[\n",
    "    ('imputer', SimpleImputer(strategy='median')),\n",
    "    ('scaler', StandardScaler())\n",
    "])\n",
    "\n",
    "categorical_transformer = Pipeline(steps=[\n",
    "    ('imputer', SimpleImputer(strategy='most_frequent')),\n",
    "    ('onehot', OneHotEncoder(handle_unknown='ignore'))\n",
    "])\n",
    "\n",
    "# Combine preprocessors in a column transformer\n",
    "preprocessor = ColumnTransformer(\n",
    "    transformers=[\n",
    "        ('num', numerical_transformer, numerical_features),\n",
    "        ('cat', categorical_transformer, categorical_features)\n",
    "    ]\n",
    ")\n",
    "\n",
    "# Create the model pipeline\n",
    "model = Pipeline(steps=[\n",
    "    ('preprocessor', preprocessor),\n",
    "    ('classifier', RandomForestClassifier(n_estimators=100, random_state=42))\n",
    "])\n",
    "\n",
    "# Train the model\n",
    "model.fit(X_train, y_train)\n",
    "\n",
    "# Save the model using dill\n",
    "dill_filename = '../model/employee_pipeline.pkl'\n",
    "with open(dill_filename, 'wb') as file:\n",
    "    dill.dump(model, file)\n",
    "\n",
    "# Save feature dictionary for Streamlit app\n",
    "feature_dict = {\n",
    "    'CATEGORICAL': {\n",
    "        'Column Name': categorical_features,\n",
    "        'Members': [df[col].unique().tolist() for col in categorical_features]\n",
    "    },\n",
    "    'NUMERICAL': {\n",
    "        'Column Name': numerical_features\n",
    "    }\n",
    "}\n",
    "dump(feature_dict, '../model/employee_feature_dict.pkl')\n"
   ]
  }
 ],
 "metadata": {
  "kernelspec": {
   "display_name": "Python 3",
   "language": "python",
   "name": "python3"
  },
  "language_info": {
   "codemirror_mode": {
    "name": "ipython",
    "version": 3
   },
   "file_extension": ".py",
   "mimetype": "text/x-python",
   "name": "python",
   "nbconvert_exporter": "python",
   "pygments_lexer": "ipython3",
   "version": "3.11.1"
  }
 },
 "nbformat": 4,
 "nbformat_minor": 2
}
